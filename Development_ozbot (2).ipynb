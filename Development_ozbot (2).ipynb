{
 "cells": [
  {
   "cell_type": "markdown",
   "id": "95e475b8-166a-41c8-be99-95d995cb0511",
   "metadata": {},
   "source": [
    "# Oz Jensen's Tic-Tac-Toe AI with Mini Max"
   ]
  },
  {
   "cell_type": "markdown",
   "id": "2050d623-0a9b-42e2-9ce2-67ff332febeb",
   "metadata": {},
   "source": [
    "## Board Representation\n",
    "# Functions that display and clear the Tic-Tac Toe board."
   ]
  },
  {
   "cell_type": "markdown",
   "id": "69bea99d-18bb-4dba-8779-2b945a9cf1c1",
   "metadata": {},
   "source": [
    "## Player Input and Turn Logic\n",
    "# player_input()\n",
    "# choose_first()\n",
    "# player_choice(board)\n",
    "# replay()"
   ]
  },
  {
   "cell_type": "markdown",
   "id": "57542d41-2581-4b9a-925a-231dd6af54b7",
   "metadata": {},
   "source": [
    "## Minimax Algorithim \n",
    "Ensures AI Will Never Lose by Exploring All Possible Game Trees"
   ]
  },
  {
   "cell_type": "markdown",
   "id": "e7090875-a270-4c00-b3bc-da19793ee1d8",
   "metadata": {},
   "source": [
    "## Final Game Engine\n",
    "# ozbot()"
   ]
  },
  {
   "cell_type": "code",
   "execution_count": 14,
   "id": "6e88800d-9f53-48a2-932c-80a8ffa2a081",
   "metadata": {},
   "outputs": [],
   "source": [
    "## Imports\n",
    "# from IPython.display import clear_output\n",
    "# import random"
   ]
  },
  {
   "cell_type": "code",
   "execution_count": 15,
   "id": "b6e50b1f-dcc8-4313-affd-83cf028e13a5",
   "metadata": {},
   "outputs": [],
   "source": [
    "from IPython.display import clear_output\n",
    "\n",
    "def display_board(board):\n",
    "    clear_output()\n",
    "    print(board[1]+'|'+board[2]+'|'+board[3])\n",
    "    print(board[4]+'|'+board[5]+'|'+board[6])\n",
    "    print(board[7]+'|'+board[8]+'|'+board[9])"
   ]
  },
  {
   "cell_type": "code",
   "execution_count": null,
   "id": "e6debc66-7233-469b-bc27-f217fe24cb07",
   "metadata": {},
   "outputs": [],
   "source": [
    "test_board = ['#','X','O','X','O','X','O','X','O','X']\n",
    "display_board(test_board)"
   ]
  },
  {
   "cell_type": "code",
   "execution_count": null,
   "id": "94e5da08-43b0-4f93-89a2-431f070c9a11",
   "metadata": {},
   "outputs": [],
   "source": [
    "def player_input():\n",
    "    marker = ''\n",
    "    #ask player 1 to choose X or O\n",
    "    while marker != 'X' and marker!= 'O':\n",
    "        marker = input('Player1, choose X or O: ').strip().upper()\n",
    "    # assign player 2, the opposite marker\n",
    "    player1 = marker\n",
    "    if player1 =='X':\n",
    "        player2 = 'O'\n",
    "    else:\n",
    "        player2 = 'X'\n",
    "    print(f\"Player 1 is {player1}!  Player 2 is {player2}!\")\n",
    "    return(player1,player2)"
   ]
  },
  {
   "cell_type": "code",
   "execution_count": 5,
   "id": "4938e004-8982-43fa-947c-722364820316",
   "metadata": {},
   "outputs": [],
   "source": [
    "\n",
    "def place_marker(board, marker, position):\n",
    "        board[position] = marker"
   ]
  },
  {
   "cell_type": "code",
   "execution_count": null,
   "id": "4880f16a-7f6e-426e-a0d2-71772df603a2",
   "metadata": {},
   "outputs": [],
   "source": [
    "place_marker(test_board,'&',7)\n",
    "display_board(test_board)"
   ]
  },
  {
   "cell_type": "code",
   "execution_count": null,
   "id": "6303c41e-a472-4e17-b87e-955b1d60b33d",
   "metadata": {},
   "outputs": [],
   "source": [
    "def clear_board(board):\n",
    "    for i in range(1, 10):\n",
    "        board[i] = ' '"
   ]
  },
  {
   "cell_type": "code",
   "execution_count": null,
   "id": "930c6be4-08c9-4462-bea1-583be7e66e3b",
   "metadata": {},
   "outputs": [],
   "source": [
    "clear_board(test_board)"
   ]
  },
  {
   "cell_type": "code",
   "execution_count": null,
   "id": "dda22d6e-eaa4-4201-b101-406935046266",
   "metadata": {},
   "outputs": [],
   "source": [
    "wins = [\n",
    "    (1, 2, 3),  # rows\n",
    "    (4, 5, 6),\n",
    "    (7, 8, 9),\n",
    "    (1, 4, 7),  # columns\n",
    "    (2, 5, 8),\n",
    "    (3, 6, 9), \n",
    "    (1, 5, 9),  # diagonals\n",
    "    (3, 5, 7)\n",
    "]       "
   ]
  },
  {
   "cell_type": "code",
   "execution_count": null,
   "id": "1b615fc4-7c6d-4aaa-be60-f7e679a099e9",
   "metadata": {},
   "outputs": [],
   "source": [
    "wins"
   ]
  },
  {
   "cell_type": "code",
   "execution_count": null,
   "id": "a2b026f9-d25b-403a-b87b-4d52b887681e",
   "metadata": {},
   "outputs": [],
   "source": [
    "def win_check (board,mark):\n",
    "    for  (i, j, k) in wins:\n",
    "        if board [i] == board [j] == board [k]  ==mark:\n",
    "            return True\n",
    "    else:\n",
    "        return False"
   ]
  },
  {
   "cell_type": "code",
   "execution_count": null,
   "id": "d3b62ded-724f-4849-9c4a-c6ea12c4a4c4",
   "metadata": {},
   "outputs": [],
   "source": [
    "place_marker(test_board,'&',4)\n",
    "display_board(test_board)"
   ]
  },
  {
   "cell_type": "code",
   "execution_count": null,
   "id": "04dc181b-2d2f-45b5-bc5a-5e1988c611c2",
   "metadata": {},
   "outputs": [],
   "source": [
    "place_marker(test_board,'&',1)\n",
    "display_board(test_board)"
   ]
  },
  {
   "cell_type": "code",
   "execution_count": null,
   "id": "14459dcf-8a7d-45d2-9d97-27e7c82c08ab",
   "metadata": {},
   "outputs": [],
   "source": [
    "win_check(test_board, '&')"
   ]
  },
  {
   "cell_type": "code",
   "execution_count": null,
   "id": "f19a1424-7cb9-469f-8193-8d57b41140de",
   "metadata": {},
   "outputs": [],
   "source": [
    "clear_board(test_board)"
   ]
  },
  {
   "cell_type": "code",
   "execution_count": null,
   "id": "9c40629a-f641-4c7f-939a-aba09c7b8bf2",
   "metadata": {},
   "outputs": [],
   "source": [
    "win_check(test_board,'&')"
   ]
  },
  {
   "cell_type": "code",
   "execution_count": null,
   "id": "b4594b2e-22b1-4a40-9e5f-f2a8bd41ce63",
   "metadata": {},
   "outputs": [],
   "source": [
    "import random\n",
    "def choose_first():\n",
    "    choice = random.choice(['Player 1','Player 2'])\n",
    "    print (f'{choice} goes first!')\n",
    "    return choice\n",
    "    "
   ]
  },
  {
   "cell_type": "code",
   "execution_count": null,
   "id": "64f71d92-a829-4cd0-8eeb-076dbc64598c",
   "metadata": {},
   "outputs": [],
   "source": [
    "choose_first()"
   ]
  },
  {
   "cell_type": "code",
   "execution_count": null,
   "id": "e3760ecb-89f3-4931-9632-7c78a5e54e5f",
   "metadata": {},
   "outputs": [],
   "source": [
    "choose_first()"
   ]
  },
  {
   "cell_type": "code",
   "execution_count": null,
   "id": "3ad82a74-8c80-4dbe-b79a-cf9dcc8c68b7",
   "metadata": {},
   "outputs": [],
   "source": [
    "choose_first()"
   ]
  },
  {
   "cell_type": "code",
   "execution_count": null,
   "id": "ff1a823e-db72-4f0f-b22f-7a94ad2f07a4",
   "metadata": {},
   "outputs": [],
   "source": [
    "def space_check(board, position):\n",
    "    pass"
   ]
  },
  {
   "cell_type": "code",
   "execution_count": null,
   "id": "3faab7f0-49bd-425b-ad28-81a7874d5997",
   "metadata": {},
   "outputs": [],
   "source": [
    "def space_check(board, position):\n",
    "    return board[position] == ' '"
   ]
  },
  {
   "cell_type": "code",
   "execution_count": null,
   "id": "34861d28-be3b-4f8c-9f6c-b06bb4269e83",
   "metadata": {},
   "outputs": [],
   "source": [
    "space_check(test_board,3)"
   ]
  },
  {
   "cell_type": "code",
   "execution_count": null,
   "id": "2ecc926e-13b6-46ea-bceb-595ad3bc398e",
   "metadata": {},
   "outputs": [],
   "source": [
    "space_check(test_board,1)"
   ]
  },
  {
   "cell_type": "code",
   "execution_count": null,
   "id": "2cbfa999-f8d6-4fb5-9da5-34aca9c50ea6",
   "metadata": {},
   "outputs": [],
   "source": [
    "place_marker(test_board,'&',1)\n",
    "display_board(test_board)"
   ]
  },
  {
   "cell_type": "code",
   "execution_count": null,
   "id": "0f967b58-0553-48db-97f1-70a30e82682a",
   "metadata": {},
   "outputs": [],
   "source": [
    "space_check(test_board,1)"
   ]
  },
  {
   "cell_type": "code",
   "execution_count": null,
   "id": "dd028384-2171-4a78-ba77-a9f6c56ac335",
   "metadata": {},
   "outputs": [],
   "source": [
    "def full_board_check(board):\n",
    "    return all(space !=' ' for space in board[1:])"
   ]
  },
  {
   "cell_type": "code",
   "execution_count": null,
   "id": "893a1389-453c-4f88-bf47-17d6af24d3bd",
   "metadata": {},
   "outputs": [],
   "source": [
    "full_board_check(test_board)"
   ]
  },
  {
   "cell_type": "code",
   "execution_count": null,
   "id": "2c97f674-f279-4bde-b730-f259aa2eda9e",
   "metadata": {},
   "outputs": [],
   "source": [
    "def gameover_check(board, player, markers):\n",
    "    #win?\n",
    "    if win_check(board,markers):\n",
    "        print(f\"{player} wins!\")\n",
    "        return True\n",
    "    #tie?\n",
    "    if full_board_check(board):\n",
    "        print (\"It is a tie, you both LOSE!\")\n",
    "        return True\n",
    "    else: \n",
    "        return False"
   ]
  },
  {
   "cell_type": "code",
   "execution_count": null,
   "id": "f0829749-bb63-414a-afbc-9a55c31cb57a",
   "metadata": {},
   "outputs": [],
   "source": [
    "def player_choice(board):\n",
    "    position = 0\n",
    "    while True: \n",
    "        choice = input(\"Choose your next position (1-9): \").strip()\n",
    "                #check if it's a digit\n",
    "        if not choice.isdigit():\n",
    "            print(\"That's not a number, silly. Try Again!\")\n",
    "            continue\n",
    "        position =int(choice)\n",
    "        # Check if it is in range\n",
    "        if position not in range(1,10):\n",
    "            print(\"Out of range! Please choose a number between 1 and 9.\")\n",
    "            continue\n",
    "        if not space_check(board, position):\n",
    "            print (\"That space is already taken. Pick another.\")\n",
    "            continue\n",
    "            # ALL GOOD\n",
    "        return position"
   ]
  },
  {
   "cell_type": "code",
   "execution_count": null,
   "id": "a069c6b7-0ca9-44f7-834a-f29aea1a4183",
   "metadata": {},
   "outputs": [],
   "source": [
    "player_choice(test_board)"
   ]
  },
  {
   "cell_type": "code",
   "execution_count": null,
   "id": "50e1aa97-1832-4a18-90b9-dece56e8c474",
   "metadata": {},
   "outputs": [],
   "source": [
    "def replay():\n",
    "    choice = ''\n",
    "    while choice not in ('Y','N'):\n",
    "        choice = input(\"Play again? Enter Y or N: \").strip().upper()\n",
    "    return choice =='Y'"
   ]
  },
  {
   "cell_type": "code",
   "execution_count": 7,
   "id": "c95d586b-049f-4ee0-a97e-a6d7191eed00",
   "metadata": {},
   "outputs": [],
   "source": [
    "def play_game():\n",
    "    print(\"Welcome to Oz's Tic Tac Toe!\")\n",
    "    while True:\n",
    "        clear_board(test_board)\n",
    "\n",
    "    #get markers\n",
    "        player1_marker, player2_marker = player_input()\n",
    "\n",
    "        #2 decide who goes first\n",
    "        current_player = choose_first()\n",
    "        current_marker = (player1_marker if current_player == \"Player 1\"\n",
    "                                         else player2_marker)\n",
    "        clear_output(wait=True)\n",
    "        print(f\"{current_player} will go first, playing as '{current_marker}'.\")\n",
    "        input(\"Press Enter to start the game\")\n",
    "        game_on = True\n",
    "        while game_on:\n",
    "            display_board(test_board)\n",
    "            print (f\"{current_player}'s turn! ({current_marker})\")\n",
    "            pos = player_choice(test_board)\n",
    "            place_marker (test_board, current_marker, pos)\n",
    "            display_board(test_board)\n",
    "            if gameover_check(test_board, current_player, current_marker):\n",
    "                game_on = False\n",
    "            else:\n",
    "\n",
    "            #switch players\n",
    "                if current_player == \"Player 1\":\n",
    "                    current_player = \"Player 2\"\n",
    "                    current_marker = player2_marker\n",
    "                else: \n",
    "                    current_player = \"Player 1\" \n",
    "                    current_marker = player1_marker        \n",
    "\n",
    "        if not replay():\n",
    "            print(\"Thanks for playing Oz's Tic Tac Toe!\")\n",
    "            break\n",
    "                                \n",
    "        \n"
   ]
  },
  {
   "cell_type": "code",
   "execution_count": null,
   "id": "fc7ffe54-dc57-4cff-b717-a14fd820bba8",
   "metadata": {},
   "outputs": [],
   "source": [
    "play_game()"
   ]
  },
  {
   "cell_type": "code",
   "execution_count": null,
   "id": "66c10370-b900-4069-8a60-a0f89e785175",
   "metadata": {},
   "outputs": [],
   "source": [
    "def computer_choice(board,comp_mark,player_mark):\n",
    "    best_score = -float('inf')\n",
    "    best_move = None\n",
    "    #1) Loop over positions 1-9\n",
    "    for i in range(1,10):\n",
    "        if space_check(board, i):\n",
    "    #2) board[i] = comp_mark\n",
    "            board[i] = comp_mark\n",
    "    #3) call minimax to evaluate this move\n",
    "            score = minimax(board, 0, False, comp_mark, player_mark)\n",
    "    #4) undo the move\n",
    "            board[i] = ' '\n",
    "            if score > best_score:\n",
    "                best_score = score\n",
    "                best_move = i\n",
    "    return best_move"
   ]
  },
  {
   "cell_type": "code",
   "execution_count": null,
   "id": "29f3870c-a866-4088-b2ee-6328cc9fae56",
   "metadata": {},
   "outputs": [],
   "source": [
    "def minimax(board, depth, is_maximizing, comp_mark, player_mark):\n",
    "    #check for (Win/Loss/Tie)\n",
    "    if win_check(board, comp_mark):\n",
    "        return 10 - depth\n",
    "    if win_check(board,player_mark): \n",
    "        return depth - 10\n",
    "    if full_board_check(board):\n",
    "        return 0\n",
    "    #2) maximizing turn (computer)\n",
    "    if is_maximizing:\n",
    "        best_score = -float('inf')\n",
    "        for i in range(1,10):\n",
    "            if space_check(board, i):\n",
    "                board[i] = comp_mark\n",
    "                score = minimax(board, depth+1, False, comp_mark, player_mark)\n",
    "                board[i] = ' '\n",
    "                best_score = max(best_score,score)\n",
    "        return best_score\n",
    "        #3) minimizing turn (human)\n",
    "    else: \n",
    "        best_score = float('inf')\n",
    "        for i in range(1, 10):\n",
    "            if space_check(board,i):\n",
    "                board[i] = player_mark\n",
    "                score = minimax(board, depth+1, True, comp_mark, player_mark)\n",
    "                board[i] = ' '\n",
    "                best_score = min(best_score, score)\n",
    "        return best_score\n",
    "                \n",
    "            "
   ]
  },
  {
   "cell_type": "code",
   "execution_count": null,
   "id": "bdd66a03-7580-457e-9ca2-c19d36584e44",
   "metadata": {},
   "outputs": [],
   "source": [
    "def play_ai():\n",
    "    print(\"Welcome to Oz's Tic Tac Toe!\")\n",
    "    while True:\n",
    "        clear_board(test_board)\n",
    "\n",
    "    #get markers\n",
    "        player1_marker, player2_marker = player_input()\n",
    "\n",
    "        #2 decide who goes first\n",
    "        current_player = choose_first()\n",
    "        current_marker = (player1_marker if current_player == \"Player 1\"\n",
    "                                         else player2_marker)\n",
    "            # Smoother Transition\n",
    "        clear_output(wait=True)\n",
    "        print(f\"{current_player} will go first, playing as '{current_marker}'.\")\n",
    "        input(\"Press Enter to start the game\")\n",
    "        game_on = True\n",
    "        while game_on:\n",
    "            display_board(test_board)\n",
    "            print (f\"{current_player}'s turn! ({current_marker})\")\n",
    "        #change here\n",
    "\n",
    "        if current_player == \"Player 1\":\n",
    "            pos = player_choice(test_board)\n",
    "        else:\n",
    "            pos = computer_choice(test_board,current_marker,player1_marker)\n",
    "            place_marker (test_board, current_marker, pos)\n",
    "            display_board(test_board)\n",
    "        if gameover_check(test_board, current_player, current_marker):\n",
    "                game_on = False\n",
    "        else:\n",
    "\n",
    "            #switch players\n",
    "            if current_player == \"Player 1\":\n",
    "                    current_player = \"Player 2\"\n",
    "                    current_marker = player2_marker\n",
    "            else: \n",
    "                    current_player = \"Player 1\" \n",
    "                    current_marker = player1_marker        \n",
    "\n",
    "        if not replay():\n",
    "            print(\"Thanks for playing Oz's Tic Tac Toe!\")\n",
    "            break"
   ]
  },
  {
   "cell_type": "code",
   "execution_count": null,
   "id": "51486c15-39cd-4433-a2f3-2ac4c37d87b8",
   "metadata": {},
   "outputs": [],
   "source": [
    "def ozbot():\n",
    "    print(\"Welcome to Oz's Tic Tac Toe!\")\n",
    "    while True:\n",
    "        clear_board(test_board)\n",
    "\n",
    "    \n",
    "        player1_marker, player2_marker = player_input()\n",
    "\n",
    "        \n",
    "        current_player = choose_first()\n",
    "        current_marker = (player1_marker if current_player == \"Player 1\"\n",
    "                                         else player2_marker)\n",
    "            \n",
    "        print(f\"{current_player} will go first, playing as '{current_marker}'.\")\n",
    "        input(\"Press Enter to start the game\")\n",
    "        game_on = True\n",
    "        while game_on:\n",
    "            display_board(test_board)\n",
    "            print (f\"{current_player}'s turn! ({current_marker})\")\n",
    "    \n",
    "\n",
    "            if current_player == \"Player 1\":\n",
    "                pos = player_choice(test_board)\n",
    "            else:\n",
    "                pos = computer_choice(test_board,current_marker,player1_marker)\n",
    "            place_marker (test_board, current_marker, pos)\n",
    "            display_board(test_board)\n",
    "            if gameover_check(test_board, current_player, current_marker):\n",
    "                game_on = False\n",
    "            else:\n",
    "\n",
    "           \n",
    "                if current_player == \"Player 1\":\n",
    "                    current_player = \"Player 2\"\n",
    "                    current_marker = player2_marker\n",
    "                else: \n",
    "                    current_player = \"Player 1\" \n",
    "                    current_marker = player1_marker        \n",
    "\n",
    "        if not replay():\n",
    "            print(\"Thanks for playing Oz's Tic Tac Toe!\")\n",
    "            break\n",
    "if __name__ == \"__main__\":\n",
    "    ozbot()"
   ]
  },
  {
   "cell_type": "code",
   "execution_count": null,
   "id": "5db7157f-e96d-428f-8722-5094f81b9dba",
   "metadata": {},
   "outputs": [],
   "source": []
  }
 ],
 "metadata": {
  "kernelspec": {
   "display_name": "Python 3 (ipykernel)",
   "language": "python",
   "name": "python3"
  },
  "language_info": {
   "codemirror_mode": {
    "name": "ipython",
    "version": 3
   },
   "file_extension": ".py",
   "mimetype": "text/x-python",
   "name": "python",
   "nbconvert_exporter": "python",
   "pygments_lexer": "ipython3",
   "version": "3.12.7"
  }
 },
 "nbformat": 4,
 "nbformat_minor": 5
}
